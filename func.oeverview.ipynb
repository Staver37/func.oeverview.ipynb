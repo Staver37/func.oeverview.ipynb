{
 "cells": [
  {
   "cell_type": "markdown",
   "metadata": {},
   "source": [
    "## Functional programing in python\n",
    "* The key of functional programing is the functions\n",
    "-------\n",
    "* Functions: a block if reusable code\n",
    "\n",
    "\n",
    "\n",
    "#### Motivation \n",
    "###### say we have the code:"
   ]
  },
  {
   "cell_type": "code",
   "execution_count": 4,
   "metadata": {},
   "outputs": [],
   "source": [
    "def average (v1,v2):\n",
    "    return  (v1 + v2 )/2"
   ]
  },
  {
   "cell_type": "code",
   "execution_count": 5,
   "metadata": {},
   "outputs": [
    {
     "name": "stdout",
     "output_type": "stream",
     "text": [
      "Average of 10 and 20 is 15.0\n",
      "Average of 17 and 18 is 17.5\n"
     ]
    }
   ],
   "source": [
    "x = 10\n",
    "y = 20\n",
    "\n",
    "avg_1 = average(x,y)  #< here\n",
    "\n",
    "print(f\"Average of {x} and {y} is {avg_1}\")\n",
    "\n",
    "from random import randint\n",
    "\n",
    "a = randint(10,20)\n",
    "b = randint(10,20)\n",
    "\n",
    "avg_2 = average(a,b)    #< here\n",
    "\n",
    "print(f\"Average of {a} and {b} is {avg_2}\")\n",
    "\n"
   ]
  },
  {
   "cell_type": "markdown",
   "metadata": {},
   "source": [
    "### Declare it as a function instead\n",
    "{}\n",
    "### Benefits:\n",
    "* DRY (dont repeat yourself)\n",
    "* Organize code Hierarhicaly\n",
    "* Less coding\n",
    "* Less weight (code optimization)\n",
    "* Faster code\n",
    "* Level up\n",
    "* Modular\n",
    "\n",
    "### Key points :\n",
    "* first define then call\n",
    "* name\n",
    "* parameters <=ins\n",
    "* return value => outs\n",
    "* scoping\n",
    "\n",
    "### Recomendations:\n",
    " * KISS /Single responsability principle (SRP)\n",
    "### Usage:\n",
    "* User\n",
    "* Arhitect\n",
    "\n",
    "\n",
    "\n",
    "\n",
    "\n"
   ]
  },
  {
   "cell_type": "markdown",
   "metadata": {},
   "source": [
    "\n",
    "                   ------------------CALER-------------------\n",
    "                   |                                         |\n",
    "                   |                                         |\n",
    "                   |                                         |\n",
    "                   |            foo(a1,a2,a3,...) res        |\n",
    "                   |                   v           ^         |\n",
    "                   |                   v           ^         |\n",
    "                   |------------------ v           ^ --------|\n",
    "                              ----(p1,p2,p3,...)---^---\n",
    "                              |                    ^  |\n",
    "                              |    OPERATION >>>return|\n",
    "                              |                       |\n",
    "                              ------------------------- \n",
    "        "
   ]
  }
 ],
 "metadata": {
  "interpreter": {
   "hash": "aee8b7b246df8f9039afb4144a1f6fd8d2ca17a180786b69acc140d282b71a49"
  },
  "kernelspec": {
   "display_name": "Python 3.10.4 64-bit",
   "language": "python",
   "name": "python3"
  },
  "language_info": {
   "codemirror_mode": {
    "name": "ipython",
    "version": 3
   },
   "file_extension": ".py",
   "mimetype": "text/x-python",
   "name": "python",
   "nbconvert_exporter": "python",
   "pygments_lexer": "ipython3",
   "version": "3.10.4"
  },
  "orig_nbformat": 4
 },
 "nbformat": 4,
 "nbformat_minor": 2
}
